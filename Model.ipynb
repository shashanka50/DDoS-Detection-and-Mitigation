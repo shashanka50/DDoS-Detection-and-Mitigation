{
  "nbformat": 4,
  "nbformat_minor": 0,
  "metadata": {
    "colab": {
      "provenance": []
    },
    "kernelspec": {
      "name": "python3",
      "display_name": "Python 3"
    },
    "language_info": {
      "name": "python"
    }
  },
  "cells": [
    {
      "cell_type": "code",
      "execution_count": null,
      "metadata": {
        "colab": {
          "base_uri": "https://localhost:8080/"
        },
        "id": "hO5-9CZzDjbP",
        "outputId": "639e75be-c303-4a97-8665-8a6a80cc68fc"
      },
      "outputs": [
        {
          "output_type": "stream",
          "name": "stderr",
          "text": [
            "/usr/local/lib/python3.10/dist-packages/sklearn/linear_model/_logistic.py:458: ConvergenceWarning: lbfgs failed to converge (status=2):\n",
            "ABNORMAL_TERMINATION_IN_LNSRCH.\n",
            "\n",
            "Increase the number of iterations (max_iter) or scale the data as shown in:\n",
            "    https://scikit-learn.org/stable/modules/preprocessing.html\n",
            "Please also refer to the documentation for alternative solver options:\n",
            "    https://scikit-learn.org/stable/modules/linear_model.html#logistic-regression\n",
            "  n_iter_i = _check_optimize_result(\n"
          ]
        },
        {
          "output_type": "stream",
          "name": "stdout",
          "text": [
            "------------------------------------------------------------------------------\n",
            "confusion matrix\n",
            "[[226596      0]\n",
            " [440285      0]]\n",
            "succes accuracy = 33.98 %\n",
            "fail accuracy = 66.02 %\n",
            "------------------------------------------------------------------------------\n"
          ]
        }
      ],
      "source": [
        "from datetime import datetime\n",
        "from matplotlib import pyplot as plt\n",
        "import pandas as pd\n",
        "from sklearn.model_selection import train_test_split\n",
        "import pickle\n",
        "from sklearn.linear_model import LogisticRegression\n",
        "from sklearn.metrics import confusion_matrix\n",
        "from sklearn.metrics import accuracy_score\n",
        "data = pd.read_csv('/content/drive/MyDrive/DDOS /dataset.csv')\n",
        "data.iloc[:, 2] = data.iloc[:, 2].str.replace('.', '')\n",
        "data.iloc[:, 3] = data.iloc[:, 3].str.replace('.', '')\n",
        "data.iloc[:, 5] = data.iloc[:, 5].str.replace('.', '')\n",
        "X_flow = data.iloc[:, :-1].values\n",
        "X_flow = X_flow.astype('float64')\n",
        "y_flow = data.iloc[:, -1].values\n",
        "X_flow_train, X_flow_test, y_flow_train, y_flow_test = train_test_split(X_flow, y_flow, test_size=0.25, random_state=0)\n",
        "classifier = LogisticRegression(random_state=0)\n",
        "flow_model = classifier.fit(X_flow_train, y_flow_train)\n",
        "y_flow_pred = flow_model.predict(X_flow_test)\n",
        "print(\"------------------------------------------------------------------------------\")\n",
        "print(\"confusion matrix\")\n",
        "cm = confusion_matrix(y_flow_test, y_flow_pred)\n",
        "print(cm)\n",
        "acc = accuracy_score(y_flow_test, y_flow_pred)\n",
        "print(\"succes accuracy = {0:.2f} %\".format(acc*100))\n",
        "fail = 1.0 - acc\n",
        "print(\"fail accuracy = {0:.2f} %\".format(fail*100))\n",
        "print(\"------------------------------------------------------------------------------\")\n",
        "# with open('LR_model', 'wb') as file:\n",
        "#             pickle.dump(classifier, file)"
      ]
    },
    {
      "cell_type": "code",
      "source": [
        "# Random Forest Without Hyperparameter tuning\n",
        "\n",
        "from datetime import datetime\n",
        "from matplotlib import pyplot as plt\n",
        "import pandas as pd\n",
        "from sklearn.model_selection import train_test_split\n",
        "import pickle\n",
        "from sklearn.ensemble import RandomForestClassifier\n",
        "from sklearn.metrics import confusion_matrix, accuracy_score\n",
        "\n",
        "class DDoSClassifier:\n",
        "    def __init__(self, data_path):\n",
        "        self.data_path = data_path\n",
        "        self.classifier = RandomForestClassifier(n_estimators=10, criterion=\"entropy\", random_state=0)\n",
        "        self.X_train = None\n",
        "        self.X_test = None\n",
        "        self.y_train = None\n",
        "        self.y_test = None\n",
        "        self.model = None\n",
        "\n",
        "    def preprocess_data(self):\n",
        "        data = pd.read_csv(self.data_path)\n",
        "        data.iloc[:, 2] = data.iloc[:, 2].str.replace('.', '')\n",
        "        data.iloc[:, 3] = data.iloc[:, 3].str.replace('.', '')\n",
        "        data.iloc[:, 5] = data.iloc[:, 5].str.replace('.', '')\n",
        "        X_flow = data.iloc[:, :-1].values\n",
        "        X_flow = X_flow.astype('float64')\n",
        "        y_flow = data.iloc[:, -1].values\n",
        "        self.X_train, self.X_test, self.y_train, self.y_test = train_test_split(X_flow, y_flow, test_size=0.25, random_state=0)\n",
        "\n",
        "    def train_model(self):\n",
        "        self.model = self.classifier.fit(self.X_train, self.y_train)\n",
        "\n",
        "    def evaluate_model(self):\n",
        "        y_flow_pred = self.model.predict(self.X_test)\n",
        "        cm = confusion_matrix(self.y_test, y_flow_pred)\n",
        "        acc = accuracy_score(self.y_test, y_flow_pred)\n",
        "        print(\"------------------------------------------------------------------------------\")\n",
        "        print(\"confusion matrix\")\n",
        "        print(cm)\n",
        "        print(\"succes accuracy = {0:.2f} %\".format(acc*100))\n",
        "        fail = 1.0 - acc\n",
        "        print(\"fail accuracy = {0:.2f} %\".format(fail*100))\n",
        "        print(\"------------------------------------------------------------------------------\")\n",
        "\n",
        "    def save_model(self, model_path):\n",
        "        with open(model_path, 'wb') as file:\n",
        "            pickle.dump(self.model, file)\n",
        "\n",
        "if __name__ == \"__main__\":\n",
        "    data_path = '/content/drive/MyDrive/DDOS /dataset.csv'\n",
        "    model_path = 'RandomForest_model.pkl'\n",
        "\n",
        "    ddos_classifier = DDoSClassifier(data_path)\n",
        "    ddos_classifier.preprocess_data()\n",
        "    ddos_classifier.train_model()\n",
        "    ddos_classifier.evaluate_model()\n",
        "    ddos_classifier.save_model(model_path)\n"
      ],
      "metadata": {
        "colab": {
          "base_uri": "https://localhost:8080/"
        },
        "id": "sxOn5cN7uy9W",
        "outputId": "20455943-83fa-4ae1-d478-ec83563958c4"
      },
      "execution_count": null,
      "outputs": [
        {
          "output_type": "stream",
          "name": "stdout",
          "text": [
            "------------------------------------------------------------------------------\n",
            "confusion matrix\n",
            "[[226596      0]\n",
            " [     3 440282]]\n",
            "succes accuracy = 100.00 %\n",
            "fail accuracy = 0.00 %\n",
            "------------------------------------------------------------------------------\n"
          ]
        }
      ]
    },
    {
      "cell_type": "code",
      "source": [
        "from datetime import datetime\n",
        "from matplotlib import pyplot as plt\n",
        "import pandas as pd\n",
        "from sklearn.model_selection import train_test_split, GridSearchCV\n",
        "from sklearn.ensemble import RandomForestClassifier\n",
        "from sklearn.metrics import confusion_matrix, accuracy_score\n",
        "import pickle\n",
        "\n",
        "class DDoSClassifier:\n",
        "    def __init__(self, data_path):\n",
        "        self.data_path = data_path\n",
        "        self.X_train = None\n",
        "        self.X_test = None\n",
        "        self.y_train = None\n",
        "        self.y_test = None\n",
        "        self.model = None\n",
        "\n",
        "    def preprocess_data(self):\n",
        "        data = pd.read_csv(self.data_path)\n",
        "        data.iloc[:, 2] = data.iloc[:, 2].str.replace('.', '')\n",
        "        data.iloc[:, 3] = data.iloc[:, 3].str.replace('.', '')\n",
        "        data.iloc[:, 5] = data.iloc[:, 5].str.replace('.', '')\n",
        "        X_flow = data.iloc[:, :-1].values\n",
        "        X_flow = X_flow.astype('float64')\n",
        "        y_flow = data.iloc[:, -1].values\n",
        "        self.X_train, self.X_test, self.y_train, self.y_test = train_test_split(X_flow, y_flow, test_size=0.25, random_state=0)\n",
        "\n",
        "    def train_model(self):\n",
        "        # Define parameters for grid search\n",
        "        param_grid = {\n",
        "            'n_estimators': [10, 15],\n",
        "            'max_depth': [None, 5],\n",
        "            'min_samples_split': [2, 5],\n",
        "            'min_samples_leaf': [1, 2]\n",
        "        }\n",
        "\n",
        "        # Initialize Random Forest classifier\n",
        "        rf = RandomForestClassifier(random_state=0)\n",
        "\n",
        "        # Perform grid search\n",
        "        grid_search = GridSearchCV(estimator=rf, param_grid=param_grid, cv=5, scoring='accuracy', n_jobs=-1)\n",
        "        grid_search.fit(self.X_train, self.y_train)\n",
        "\n",
        "        # Get best parameters\n",
        "        best_params = grid_search.best_params_\n",
        "        print(\"Best Parameters:\", best_params)\n",
        "\n",
        "        # Train model with best parameters\n",
        "        self.model = RandomForestClassifier(**best_params, random_state=0)\n",
        "        self.model.fit(self.X_train, self.y_train)\n",
        "\n",
        "    def evaluate_model(self):\n",
        "        y_flow_pred = self.model.predict(self.X_test)\n",
        "        cm = confusion_matrix(self.y_test, y_flow_pred)\n",
        "        acc = accuracy_score(self.y_test, y_flow_pred)\n",
        "        print(\"------------------------------------------------------------------------------\")\n",
        "        print(\"confusion matrix\")\n",
        "        print(cm)\n",
        "        print(\"succes accuracy = {0:.2f} %\".format(acc*100))\n",
        "        fail = 1.0 - acc\n",
        "        print(\"fail accuracy = {0:.2f} %\".format(fail*100))\n",
        "        print(\"------------------------------------------------------------------------------\")\n",
        "\n",
        "    def save_model(self, model_path):\n",
        "        with open(model_path, 'wb') as file:\n",
        "            pickle.dump(self.model, file)\n",
        "\n",
        "if __name__ == \"__main__\":\n",
        "    data_path = '/content/drive/MyDrive/DDOS /dataset.csv'\n",
        "    model_path = 'RandomForest_model_hyperparameter_tuned.pkl'\n",
        "\n",
        "    ddos_classifier = DDoSClassifier(data_path)\n",
        "    ddos_classifier.preprocess_data()\n",
        "    ddos_classifier.train_model()\n",
        "    ddos_classifier.evaluate_model()\n",
        "    ddos_classifier.save_model(model_path)\n"
      ],
      "metadata": {
        "colab": {
          "base_uri": "https://localhost:8080/"
        },
        "id": "SeiyofK2z1rV",
        "outputId": "22c66298-c249-48fe-f605-5990cd82fedf"
      },
      "execution_count": null,
      "outputs": [
        {
          "output_type": "stream",
          "name": "stdout",
          "text": [
            "Best Parameters: {'max_depth': None, 'min_samples_leaf': 1, 'min_samples_split': 2, 'n_estimators': 15}\n",
            "------------------------------------------------------------------------------\n",
            "confusion matrix\n",
            "[[226596      0]\n",
            " [     2 440283]]\n",
            "succes accuracy = 100.00 %\n",
            "fail accuracy = 0.00 %\n",
            "------------------------------------------------------------------------------\n"
          ]
        }
      ]
    }
  ]
}