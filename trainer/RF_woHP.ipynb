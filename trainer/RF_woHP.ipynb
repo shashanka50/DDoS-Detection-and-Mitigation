{
  "nbformat": 4,
  "nbformat_minor": 0,
  "metadata": {
    "colab": {
      "provenance": []
    },
    "kernelspec": {
      "name": "python3",
      "display_name": "Python 3"
    },
    "language_info": {
      "name": "python"
    }
  },
  "cells": [
    {
      "cell_type": "code",
      "execution_count": null,
      "metadata": {
        "id": "ZzibGjXrJTfc"
      },
      "outputs": [],
      "source": [
        "# Random Forest Without Hyperparameter tuning\n",
        "\n",
        "from datetime import datetime\n",
        "from matplotlib import pyplot as plt\n",
        "import pandas as pd\n",
        "from sklearn.model_selection import train_test_split\n",
        "import pickle\n",
        "from sklearn.ensemble import RandomForestClassifier\n",
        "from sklearn.metrics import confusion_matrix, accuracy_score\n",
        "\n",
        "class DDoSClassifier:\n",
        "    def __init__(self, data_path):\n",
        "        self.data_path = data_path\n",
        "        self.classifier = RandomForestClassifier(n_estimators=10, criterion=\"entropy\", random_state=0)\n",
        "        self.X_train = None\n",
        "        self.X_test = None\n",
        "        self.y_train = None\n",
        "        self.y_test = None\n",
        "        self.model = None\n",
        "\n",
        "    def preprocess_data(self):\n",
        "        data = pd.read_csv(self.data_path)\n",
        "        data.iloc[:, 2] = data.iloc[:, 2].str.replace('.', '')\n",
        "        data.iloc[:, 3] = data.iloc[:, 3].str.replace('.', '')\n",
        "        data.iloc[:, 5] = data.iloc[:, 5].str.replace('.', '')\n",
        "        X_flow = data.iloc[:, :-1].values\n",
        "        X_flow = X_flow.astype('float64')\n",
        "        y_flow = data.iloc[:, -1].values\n",
        "        self.X_train, self.X_test, self.y_train, self.y_test = train_test_split(X_flow, y_flow, test_size=0.25, random_state=0)\n",
        "\n",
        "    def train_model(self):\n",
        "        self.model = self.classifier.fit(self.X_train, self.y_train)\n",
        "\n",
        "    def evaluate_model(self):\n",
        "        y_flow_pred = self.model.predict(self.X_test)\n",
        "        cm = confusion_matrix(self.y_test, y_flow_pred)\n",
        "        acc = accuracy_score(self.y_test, y_flow_pred)\n",
        "        print(\"------------------------------------------------------------------------------\")\n",
        "        print(\"confusion matrix\")\n",
        "        print(cm)\n",
        "        print(\"succes accuracy = {0:.2f} %\".format(acc*100))\n",
        "        fail = 1.0 - acc\n",
        "        print(\"fail accuracy = {0:.2f} %\".format(fail*100))\n",
        "        print(\"------------------------------------------------------------------------------\")\n",
        "\n",
        "    def save_model(self, model_path):\n",
        "        with open(model_path, 'wb') as file:\n",
        "            pickle.dump(self.model, file)\n",
        "\n",
        "if __name__ == \"__main__\":\n",
        "    data_path = '/content/drive/MyDrive/DDOS /dataset.csv'\n",
        "    model_path = 'RandomForest_model.pkl'\n",
        "\n",
        "    ddos_classifier = DDoSClassifier(data_path)\n",
        "    ddos_classifier.preprocess_data()\n",
        "    ddos_classifier.train_model()\n",
        "    ddos_classifier.evaluate_model()\n",
        "    ddos_classifier.save_model(model_path)"
      ]
    }
  ]
}