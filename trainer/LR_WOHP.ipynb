{
  "nbformat": 4,
  "nbformat_minor": 0,
  "metadata": {
    "colab": {
      "provenance": []
    },
    "kernelspec": {
      "name": "python3",
      "display_name": "Python 3"
    },
    "language_info": {
      "name": "python"
    }
  },
  "cells": [
    {
      "cell_type": "code",
      "execution_count": null,
      "metadata": {
        "id": "BY-hjjaGIn65"
      },
      "outputs": [],
      "source": [
        "#Logistic Regression without Hyperparameter\n",
        "from datetime import datetime\n",
        "from matplotlib import pyplot as plt\n",
        "import pandas as pd\n",
        "from sklearn.model_selection import train_test_split\n",
        "import pickle\n",
        "from sklearn.linear_model import LogisticRegression\n",
        "from sklearn.metrics import confusion_matrix\n",
        "from sklearn.metrics import accuracy_score\n",
        "data = pd.read_csv('/content/drive/MyDrive/DDOS /dataset.csv')\n",
        "data.iloc[:, 2] = data.iloc[:, 2].str.replace('.', '')\n",
        "data.iloc[:, 3] = data.iloc[:, 3].str.replace('.', '')\n",
        "data.iloc[:, 5] = data.iloc[:, 5].str.replace('.', '')\n",
        "X_flow = data.iloc[:, :-1].values\n",
        "X_flow = X_flow.astype('float64')\n",
        "y_flow = data.iloc[:, -1].values\n",
        "X_flow_train, X_flow_test, y_flow_train, y_flow_test = train_test_split(X_flow, y_flow, test_size=0.25, random_state=0)\n",
        "classifier = LogisticRegression(random_state=0)\n",
        "flow_model = classifier.fit(X_flow_train, y_flow_train)\n",
        "y_flow_pred = flow_model.predict(X_flow_test)\n",
        "print(\"------------------------------------------------------------------------------\")\n",
        "print(\"confusion matrix\")\n",
        "cm = confusion_matrix(y_flow_test, y_flow_pred)\n",
        "print(cm)\n",
        "acc = accuracy_score(y_flow_test, y_flow_pred)\n",
        "print(\"succes accuracy = {0:.2f} %\".format(acc*100))\n",
        "fail = 1.0 - acc\n",
        "print(\"fail accuracy = {0:.2f} %\".format(fail*100))\n",
        "print(\"------------------------------------------------------------------------------\")\n",
        "# with open('LR_model', 'wb') as file:\n",
        "#             pickle.dump(classifier, file)"
      ]
    }
  ]
}